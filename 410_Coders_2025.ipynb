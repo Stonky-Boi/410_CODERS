{
  "nbformat": 4,
  "nbformat_minor": 0,
  "metadata": {
    "colab": {
      "provenance": [],
      "authorship_tag": "ABX9TyNWM7PMCQomb+6+nQLceC1g",
      "include_colab_link": true
    },
    "kernelspec": {
      "name": "python3",
      "display_name": "Python 3"
    },
    "language_info": {
      "name": "python"
    }
  },
  "cells": [
    {
      "cell_type": "markdown",
      "metadata": {
        "id": "view-in-github",
        "colab_type": "text"
      },
      "source": [
        "<a href=\"https://colab.research.google.com/github/Stonky-Boi/GDSC_Hackathon_410CODERS/blob/main/410_Coders_2025.ipynb\" target=\"_parent\"><img src=\"https://colab.research.google.com/assets/colab-badge.svg\" alt=\"Open In Colab\"/></a>"
      ]
    },
    {
      "cell_type": "code",
      "source": [
        "# Install cmake (needed for building dlib) and other dependencies\n",
        "!apt-get install -y cmake\n",
        "\n",
        "# Install dlib and opencv-python\n",
        "!pip install dlib opencv-python\n",
        "!pip install gradio\n",
        "!pip uninstall -y numpy\n",
        "!pip install numpy==1.23.5"
      ],
      "metadata": {
        "colab": {
          "base_uri": "https://localhost:8080/",
          "height": 1000
        },
        "id": "4eKluSC9ixzm",
        "outputId": "dc83a5f3-24ec-4911-b5db-0dc053ac46cb"
      },
      "execution_count": 2,
      "outputs": [
        {
          "output_type": "stream",
          "name": "stdout",
          "text": [
            "Reading package lists... Done\n",
            "Building dependency tree... Done\n",
            "Reading state information... Done\n",
            "cmake is already the newest version (3.22.1-1ubuntu1.22.04.2).\n",
            "0 upgraded, 0 newly installed, 0 to remove and 40 not upgraded.\n",
            "Requirement already satisfied: dlib in /usr/local/lib/python3.11/dist-packages (19.24.2)\n",
            "Requirement already satisfied: opencv-python in /usr/local/lib/python3.11/dist-packages (4.11.0.86)\n",
            "Requirement already satisfied: numpy>=1.21.2 in /usr/local/lib/python3.11/dist-packages (from opencv-python) (1.23.5)\n",
            "Requirement already satisfied: gradio in /usr/local/lib/python3.11/dist-packages (5.23.1)\n",
            "Requirement already satisfied: aiofiles<24.0,>=22.0 in /usr/local/lib/python3.11/dist-packages (from gradio) (23.2.1)\n",
            "Requirement already satisfied: anyio<5.0,>=3.0 in /usr/local/lib/python3.11/dist-packages (from gradio) (4.9.0)\n",
            "Requirement already satisfied: fastapi<1.0,>=0.115.2 in /usr/local/lib/python3.11/dist-packages (from gradio) (0.115.12)\n",
            "Requirement already satisfied: ffmpy in /usr/local/lib/python3.11/dist-packages (from gradio) (0.5.0)\n",
            "Requirement already satisfied: gradio-client==1.8.0 in /usr/local/lib/python3.11/dist-packages (from gradio) (1.8.0)\n",
            "Requirement already satisfied: groovy~=0.1 in /usr/local/lib/python3.11/dist-packages (from gradio) (0.1.2)\n",
            "Requirement already satisfied: httpx>=0.24.1 in /usr/local/lib/python3.11/dist-packages (from gradio) (0.28.1)\n",
            "Requirement already satisfied: huggingface-hub>=0.28.1 in /usr/local/lib/python3.11/dist-packages (from gradio) (0.29.3)\n",
            "Requirement already satisfied: jinja2<4.0 in /usr/local/lib/python3.11/dist-packages (from gradio) (3.1.6)\n",
            "Requirement already satisfied: markupsafe<4.0,>=2.0 in /usr/local/lib/python3.11/dist-packages (from gradio) (3.0.2)\n",
            "Requirement already satisfied: numpy<3.0,>=1.0 in /usr/local/lib/python3.11/dist-packages (from gradio) (1.23.5)\n",
            "Requirement already satisfied: orjson~=3.0 in /usr/local/lib/python3.11/dist-packages (from gradio) (3.10.15)\n",
            "Requirement already satisfied: packaging in /usr/local/lib/python3.11/dist-packages (from gradio) (24.2)\n",
            "Requirement already satisfied: pandas<3.0,>=1.0 in /usr/local/lib/python3.11/dist-packages (from gradio) (2.2.2)\n",
            "Requirement already satisfied: pillow<12.0,>=8.0 in /usr/local/lib/python3.11/dist-packages (from gradio) (11.1.0)\n",
            "Requirement already satisfied: pydantic>=2.0 in /usr/local/lib/python3.11/dist-packages (from gradio) (2.10.6)\n",
            "Requirement already satisfied: pydub in /usr/local/lib/python3.11/dist-packages (from gradio) (0.25.1)\n",
            "Requirement already satisfied: python-multipart>=0.0.18 in /usr/local/lib/python3.11/dist-packages (from gradio) (0.0.20)\n",
            "Requirement already satisfied: pyyaml<7.0,>=5.0 in /usr/local/lib/python3.11/dist-packages (from gradio) (6.0.2)\n",
            "Requirement already satisfied: ruff>=0.9.3 in /usr/local/lib/python3.11/dist-packages (from gradio) (0.11.2)\n",
            "Requirement already satisfied: safehttpx<0.2.0,>=0.1.6 in /usr/local/lib/python3.11/dist-packages (from gradio) (0.1.6)\n",
            "Requirement already satisfied: semantic-version~=2.0 in /usr/local/lib/python3.11/dist-packages (from gradio) (2.10.0)\n",
            "Requirement already satisfied: starlette<1.0,>=0.40.0 in /usr/local/lib/python3.11/dist-packages (from gradio) (0.46.1)\n",
            "Requirement already satisfied: tomlkit<0.14.0,>=0.12.0 in /usr/local/lib/python3.11/dist-packages (from gradio) (0.13.2)\n",
            "Requirement already satisfied: typer<1.0,>=0.12 in /usr/local/lib/python3.11/dist-packages (from gradio) (0.15.2)\n",
            "Requirement already satisfied: typing-extensions~=4.0 in /usr/local/lib/python3.11/dist-packages (from gradio) (4.12.2)\n",
            "Requirement already satisfied: uvicorn>=0.14.0 in /usr/local/lib/python3.11/dist-packages (from gradio) (0.34.0)\n",
            "Requirement already satisfied: fsspec in /usr/local/lib/python3.11/dist-packages (from gradio-client==1.8.0->gradio) (2025.3.0)\n",
            "Requirement already satisfied: websockets<16.0,>=10.0 in /usr/local/lib/python3.11/dist-packages (from gradio-client==1.8.0->gradio) (15.0.1)\n",
            "Requirement already satisfied: idna>=2.8 in /usr/local/lib/python3.11/dist-packages (from anyio<5.0,>=3.0->gradio) (3.10)\n",
            "Requirement already satisfied: sniffio>=1.1 in /usr/local/lib/python3.11/dist-packages (from anyio<5.0,>=3.0->gradio) (1.3.1)\n",
            "Requirement already satisfied: certifi in /usr/local/lib/python3.11/dist-packages (from httpx>=0.24.1->gradio) (2025.1.31)\n",
            "Requirement already satisfied: httpcore==1.* in /usr/local/lib/python3.11/dist-packages (from httpx>=0.24.1->gradio) (1.0.7)\n",
            "Requirement already satisfied: h11<0.15,>=0.13 in /usr/local/lib/python3.11/dist-packages (from httpcore==1.*->httpx>=0.24.1->gradio) (0.14.0)\n",
            "Requirement already satisfied: filelock in /usr/local/lib/python3.11/dist-packages (from huggingface-hub>=0.28.1->gradio) (3.18.0)\n",
            "Requirement already satisfied: requests in /usr/local/lib/python3.11/dist-packages (from huggingface-hub>=0.28.1->gradio) (2.32.3)\n",
            "Requirement already satisfied: tqdm>=4.42.1 in /usr/local/lib/python3.11/dist-packages (from huggingface-hub>=0.28.1->gradio) (4.67.1)\n",
            "Requirement already satisfied: python-dateutil>=2.8.2 in /usr/local/lib/python3.11/dist-packages (from pandas<3.0,>=1.0->gradio) (2.8.2)\n",
            "Requirement already satisfied: pytz>=2020.1 in /usr/local/lib/python3.11/dist-packages (from pandas<3.0,>=1.0->gradio) (2025.1)\n",
            "Requirement already satisfied: tzdata>=2022.7 in /usr/local/lib/python3.11/dist-packages (from pandas<3.0,>=1.0->gradio) (2025.1)\n",
            "Requirement already satisfied: annotated-types>=0.6.0 in /usr/local/lib/python3.11/dist-packages (from pydantic>=2.0->gradio) (0.7.0)\n",
            "Requirement already satisfied: pydantic-core==2.27.2 in /usr/local/lib/python3.11/dist-packages (from pydantic>=2.0->gradio) (2.27.2)\n",
            "Requirement already satisfied: click>=8.0.0 in /usr/local/lib/python3.11/dist-packages (from typer<1.0,>=0.12->gradio) (8.1.8)\n",
            "Requirement already satisfied: shellingham>=1.3.0 in /usr/local/lib/python3.11/dist-packages (from typer<1.0,>=0.12->gradio) (1.5.4)\n",
            "Requirement already satisfied: rich>=10.11.0 in /usr/local/lib/python3.11/dist-packages (from typer<1.0,>=0.12->gradio) (13.9.4)\n",
            "Requirement already satisfied: six>=1.5 in /usr/local/lib/python3.11/dist-packages (from python-dateutil>=2.8.2->pandas<3.0,>=1.0->gradio) (1.17.0)\n",
            "Requirement already satisfied: markdown-it-py>=2.2.0 in /usr/local/lib/python3.11/dist-packages (from rich>=10.11.0->typer<1.0,>=0.12->gradio) (3.0.0)\n",
            "Requirement already satisfied: pygments<3.0.0,>=2.13.0 in /usr/local/lib/python3.11/dist-packages (from rich>=10.11.0->typer<1.0,>=0.12->gradio) (2.18.0)\n",
            "Requirement already satisfied: charset-normalizer<4,>=2 in /usr/local/lib/python3.11/dist-packages (from requests->huggingface-hub>=0.28.1->gradio) (3.4.1)\n",
            "Requirement already satisfied: urllib3<3,>=1.21.1 in /usr/local/lib/python3.11/dist-packages (from requests->huggingface-hub>=0.28.1->gradio) (2.3.0)\n",
            "Requirement already satisfied: mdurl~=0.1 in /usr/local/lib/python3.11/dist-packages (from markdown-it-py>=2.2.0->rich>=10.11.0->typer<1.0,>=0.12->gradio) (0.1.2)\n",
            "Found existing installation: numpy 1.23.5\n",
            "Uninstalling numpy-1.23.5:\n",
            "  Successfully uninstalled numpy-1.23.5\n",
            "Collecting numpy==1.23.5\n",
            "  Using cached numpy-1.23.5-cp311-cp311-manylinux_2_17_x86_64.manylinux2014_x86_64.whl.metadata (2.3 kB)\n",
            "Using cached numpy-1.23.5-cp311-cp311-manylinux_2_17_x86_64.manylinux2014_x86_64.whl (17.1 MB)\n",
            "Installing collected packages: numpy\n",
            "\u001b[31mERROR: pip's dependency resolver does not currently take into account all the packages that are installed. This behaviour is the source of the following dependency conflicts.\n",
            "jaxlib 0.5.1 requires numpy>=1.25, but you have numpy 1.23.5 which is incompatible.\n",
            "treescope 0.1.9 requires numpy>=1.25.2, but you have numpy 1.23.5 which is incompatible.\n",
            "albucore 0.0.23 requires numpy>=1.24.4, but you have numpy 1.23.5 which is incompatible.\n",
            "blosc2 3.2.0 requires numpy>=1.26, but you have numpy 1.23.5 which is incompatible.\n",
            "chex 0.1.89 requires numpy>=1.24.1, but you have numpy 1.23.5 which is incompatible.\n",
            "jax 0.5.2 requires numpy>=1.25, but you have numpy 1.23.5 which is incompatible.\n",
            "bigframes 1.41.0 requires numpy>=1.24.0, but you have numpy 1.23.5 which is incompatible.\n",
            "imbalanced-learn 0.13.0 requires numpy<3,>=1.24.3, but you have numpy 1.23.5 which is incompatible.\n",
            "xarray 2025.1.2 requires numpy>=1.24, but you have numpy 1.23.5 which is incompatible.\n",
            "albumentations 2.0.5 requires numpy>=1.24.4, but you have numpy 1.23.5 which is incompatible.\n",
            "scikit-image 0.25.2 requires numpy>=1.24, but you have numpy 1.23.5 which is incompatible.\n",
            "tensorflow 2.18.0 requires numpy<2.1.0,>=1.26.0, but you have numpy 1.23.5 which is incompatible.\n",
            "pymc 5.21.1 requires numpy>=1.25.0, but you have numpy 1.23.5 which is incompatible.\u001b[0m\u001b[31m\n",
            "\u001b[0mSuccessfully installed numpy-1.23.5\n"
          ]
        },
        {
          "output_type": "display_data",
          "data": {
            "application/vnd.colab-display-data+json": {
              "pip_warning": {
                "packages": [
                  "numpy"
                ]
              },
              "id": "fafb6924618c4e958a236a5f3549c2c4"
            }
          },
          "metadata": {}
        }
      ]
    },
    {
      "cell_type": "code",
      "source": [
        "import cv2\n",
        "import dlib\n",
        "import numpy as np\n",
        "import gradio as gr\n",
        "\n",
        "# Initialize dlib's face detector and shape predictor (ensure the .dat file is available)\n",
        "detector = dlib.get_frontal_face_detector()\n",
        "predictor = dlib.shape_predictor(\"shape_predictor_68_face_landmarks.dat\")\n",
        "\n",
        "def get_landmarks(img, detector, predictor):\n",
        "    \"\"\"Detect face and extract 68 landmarks from a given image.\"\"\"\n",
        "    # Ensure image is in uint8\n",
        "    if img.dtype != np.uint8:\n",
        "        img = np.uint8(img)\n",
        "    gray = cv2.cvtColor(img, cv2.COLOR_BGR2GRAY)\n",
        "    faces = detector(gray)\n",
        "    if len(faces) == 0:\n",
        "        return None\n",
        "    # Process first detected face\n",
        "    face = faces[0]\n",
        "    landmarks = predictor(gray, face)\n",
        "    points = []\n",
        "    for i in range(68):\n",
        "        points.append((landmarks.part(i).x, landmarks.part(i).y))\n",
        "    return points\n",
        "\n",
        "def apply_affine_transform(src, src_tri, dst_tri, size):\n",
        "    \"\"\"Apply affine transform calculated using src_tri and dst_tri to src image.\"\"\"\n",
        "    warp_mat = cv2.getAffineTransform(np.float32(src_tri), np.float32(dst_tri))\n",
        "    dst = cv2.warpAffine(src, warp_mat, (size[0], size[1]), flags=cv2.INTER_LINEAR,\n",
        "                         borderMode=cv2.BORDER_REFLECT_101)\n",
        "    return dst\n",
        "\n",
        "def warp_triangle(img1, img2, t1, t2):\n",
        "    \"\"\"Warp and blend triangular regions from img1 to img2.\"\"\"\n",
        "    # Find bounding rectangles for each triangle\n",
        "    r1 = cv2.boundingRect(np.float32([t1]))\n",
        "    r2 = cv2.boundingRect(np.float32([t2]))\n",
        "\n",
        "    # Offset points by top left corner of the respective rectangles\n",
        "    t1_rect = []\n",
        "    t2_rect = []\n",
        "    t2_rect_int = []\n",
        "    for i in range(3):\n",
        "        t1_rect.append(((t1[i][0] - r1[0]), (t1[i][1] - r1[1])))\n",
        "        t2_rect.append(((t2[i][0] - r2[0]), (t2[i][1] - r2[1])))\n",
        "        t2_rect_int.append((int(t2[i][0] - r2[0]), int(t2[i][1] - r2[1])))\n",
        "\n",
        "    # Create a mask for the triangle\n",
        "    mask = np.zeros((r2[3], r2[2], 3), dtype=np.float32)\n",
        "    cv2.fillConvexPoly(mask, np.array(t2_rect_int), (1.0, 1.0, 1.0), 16, 0)\n",
        "\n",
        "    # Apply affine transform to the small rectangular patch\n",
        "    img1_rect = img1[r1[1]:r1[1]+r1[3], r1[0]:r1[0]+r1[2]]\n",
        "    size_rect = (r2[2], r2[3])\n",
        "    img2_rect = apply_affine_transform(img1_rect, t1_rect, t2_rect, size_rect)\n",
        "\n",
        "    # Blend the warped triangle into the destination image\n",
        "    img2_rect = img2_rect * mask\n",
        "    img2[r2[1]:r2[1]+r2[3], r2[0]:r2[0]+r2[2]] = \\\n",
        "        img2[r2[1]:r2[1]+r2[3], r2[0]:r2[0]+r2[2]] * ((1.0, 1.0, 1.0) - mask)\n",
        "    img2[r2[1]:r2[1]+r2[3], r2[0]:r2[0]+r2[2]] += img2_rect\n",
        "\n",
        "def face_swap(source, target):\n",
        "    \"\"\"\n",
        "    Perform face swapping using a source face and a target image.\n",
        "    The inputs (source, target) are expected as numpy arrays in RGB format.\n",
        "    \"\"\"\n",
        "    # Convert RGB (Gradio default) to BGR (OpenCV default)\n",
        "    source_bgr = cv2.cvtColor(source, cv2.COLOR_RGB2BGR)\n",
        "    target_bgr = cv2.cvtColor(target, cv2.COLOR_RGB2BGR)\n",
        "\n",
        "    # Get landmarks from both images\n",
        "    points1 = get_landmarks(source_bgr, detector, predictor)\n",
        "    points2 = get_landmarks(target_bgr, detector, predictor)\n",
        "    if points1 is None or points2 is None:\n",
        "        return \"Face not detected in one of the images!\"\n",
        "\n",
        "    # Convert images to float32 for processing\n",
        "    img1 = np.float32(source_bgr)\n",
        "    img2 = np.float32(target_bgr)\n",
        "\n",
        "    # Get convex hull for target face landmarks\n",
        "    hullIndex = cv2.convexHull(np.array(points2), returnPoints=False)\n",
        "    hull1 = []\n",
        "    hull2 = []\n",
        "    for i in range(len(hullIndex)):\n",
        "        idx = hullIndex[i][0]\n",
        "        hull1.append(points1[idx])\n",
        "        hull2.append(points2[idx])\n",
        "\n",
        "    # Delaunay triangulation on the target face\n",
        "    sizeImg2 = img2.shape\n",
        "    rect = (0, 0, sizeImg2[1], sizeImg2[0])\n",
        "    subdiv = cv2.Subdiv2D(rect)\n",
        "    for p in hull2:\n",
        "        subdiv.insert(p)\n",
        "    triangleList = subdiv.getTriangleList()\n",
        "    triangles = []\n",
        "    for t in triangleList:\n",
        "        pts = [(t[0], t[1]), (t[2], t[3]), (t[4], t[5])]\n",
        "        indices = []\n",
        "        for pt in pts:\n",
        "            for i in range(len(hull2)):\n",
        "                if abs(pt[0] - hull2[i][0]) < 1.0 and abs(pt[1] - hull2[i][1]) < 1.0:\n",
        "                    indices.append(i)\n",
        "        if len(indices) == 3:\n",
        "            triangles.append(indices)\n",
        "\n",
        "    # Warp triangles from source face to target image\n",
        "    img2_warped = np.copy(img2)\n",
        "    for tri in triangles:\n",
        "        t1 = [hull1[tri[0]], hull1[tri[1]], hull1[tri[2]]]\n",
        "        t2 = [hull2[tri[0]], hull2[tri[1]], hull2[tri[2]]]\n",
        "        warp_triangle(img1, img2_warped, t1, t2)\n",
        "\n",
        "    # Create mask from convex hull on target face and perform seamless cloning\n",
        "    hull8U = [(p[0], p[1]) for p in hull2]\n",
        "    mask = np.zeros(img2.shape, dtype=np.uint8)\n",
        "    cv2.fillConvexPoly(mask, np.int32(hull8U), (255, 255, 255))\n",
        "\n",
        "    r = cv2.boundingRect(np.float32([hull2]))\n",
        "    center = (int(r[0] + r[2] / 2), int(r[1] + r[3] / 2))\n",
        "\n",
        "    output = cv2.seamlessClone(np.uint8(img2_warped), np.uint8(img2), mask, center, cv2.NORMAL_CLONE)\n",
        "\n",
        "    # Convert output back to RGB for Gradio display\n",
        "    output_rgb = cv2.cvtColor(output, cv2.COLOR_BGR2RGB)\n",
        "    return output_rgb\n",
        "\n",
        "# Create a Gradio interface.\n",
        "iface = gr.Interface(\n",
        "    fn=face_swap,\n",
        "    inputs=[\n",
        "        gr.Image(type=\"numpy\", label=\"Source Face\"),\n",
        "        gr.Image(type=\"numpy\", label=\"Target Image\")\n",
        "    ],\n",
        "    outputs=gr.Image(type=\"numpy\", label=\"Face Swapped Output\"),\n",
        "    title=\"Face Swapping App\",\n",
        "    description=\"Upload a source face and a target image. The app will swap the face from the source into the target.\"\n",
        ")\n",
        "\n",
        "# Launch the Gradio app\n",
        "iface.launch(share=True)"
      ],
      "metadata": {
        "colab": {
          "base_uri": "https://localhost:8080/",
          "height": 612
        },
        "id": "7udZXvFpi0dA",
        "outputId": "90709dc1-c1a5-4aaf-93c9-77cb5e4bfa5f"
      },
      "execution_count": 1,
      "outputs": [
        {
          "output_type": "stream",
          "name": "stdout",
          "text": [
            "Colab notebook detected. To show errors in colab notebook, set debug=True in launch()\n",
            "* Running on public URL: https://d4bcc4aadcb4ae815d.gradio.live\n",
            "\n",
            "This share link expires in 72 hours. For free permanent hosting and GPU upgrades, run `gradio deploy` from the terminal in the working directory to deploy to Hugging Face Spaces (https://huggingface.co/spaces)\n"
          ]
        },
        {
          "output_type": "display_data",
          "data": {
            "text/plain": [
              "<IPython.core.display.HTML object>"
            ],
            "text/html": [
              "<div><iframe src=\"https://d4bcc4aadcb4ae815d.gradio.live\" width=\"100%\" height=\"500\" allow=\"autoplay; camera; microphone; clipboard-read; clipboard-write;\" frameborder=\"0\" allowfullscreen></iframe></div>"
            ]
          },
          "metadata": {}
        },
        {
          "output_type": "execute_result",
          "data": {
            "text/plain": []
          },
          "metadata": {},
          "execution_count": 1
        }
      ]
    }
  ]
}
